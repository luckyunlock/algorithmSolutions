{
 "cells": [
  {
   "cell_type": "markdown",
   "metadata": {},
   "source": [
    "# Balanced Brackets\n",
    "\n",
    "## Problem\n",
    "\n",
    "Write a function that takes in a string made up of brackets \"([{)]}\" and other optional characters. The function should return a\n",
    "boolean representing whether the string is balanced with regards to brackets.\n",
    "\n",
    "A string is said to be balanced if it has as many opening brackets of a\n",
    "certain type as it has closing brackets of that type and if no bracket is\n",
    "unmatched. Note that an opening bracket can't match a corresponding closing\n",
    "bracket that comes before it, and similarly, a closing bracket can't match a\n",
    "corresponding opening bracket that comes after it. Also, brackets can't\n",
    "overlap each other as in [(]).\n",
    "\n",
    "## Input/Output\n",
    "### Sample Input\n",
    "string = \"([])(){}(())()()\"\n",
    "### Sample Output\n",
    "True\n"
   ]
  },
  {
   "cell_type": "markdown",
   "metadata": {},
   "source": [
    "## Solution Idea\n",
    "The solution uses a stack that contains the opening brackets that have not been matched, yet. Iterating over the string character by character, keep pushing on the stack the open brackets. Once you find a closing bracket, try to pop from the stack and check whether the type matches. If they don't match, return False because types can not overlap. If you need to pop from an empty stack, return False because there is a closing bracket that have not been opened before. If you finish iterating the string, check wether the stack is empty or not. A final empty stack ensures that you have the same amount of open and closed brackets (for every type)\n",
    "\n",
    "$\\text{Complexity - }Time\\ O(n)\\text{ | }Space\\ O(n)\\text{ when n is the number of characters in the string}$\n",
    "\n",
    "# Implementation"
   ]
  },
  {
   "cell_type": "code",
   "execution_count": 7,
   "metadata": {},
   "outputs": [],
   "source": [
    "# Auxiliary functions\n",
    "\n",
    "# Space O(1) | Time O(1)\n",
    "def is_bracket_symbol(symbol):\n",
    "    return symbol in ['(', '[', '{', ')', ']', '}']\n",
    "\n",
    "# Space O(1) | Time O(1)\n",
    "def is_opening_symbol(symbol):\n",
    "    return symbol in ['(', '[', '{']\n",
    "\n",
    "# Space O(1) | Time O(1)\n",
    "def corresponding_opening_symbol(symbol):\n",
    "    if symbol == ')':\n",
    "        return '('\n",
    "    if symbol == ']':\n",
    "        return '['\n",
    "    return '{'\n",
    "\n",
    "# Main function\n",
    "\n",
    "# Space O(n) | Time O(n)\n",
    "def balanced_brackets(string):\n",
    "    brackets_stack = []\n",
    "\n",
    "    for symbol in string:\n",
    "        if is_bracket_symbol(symbol):\n",
    "            if is_opening_symbol(symbol):\n",
    "                brackets_stack.append(symbol)\n",
    "            else:\n",
    "                try_match = corresponding_opening_symbol(symbol)\n",
    "                if not brackets_stack or try_match != brackets_stack.pop():\n",
    "                    return False\n",
    "\n",
    "    return brackets_stack == []"
   ]
  },
  {
   "cell_type": "code",
   "execution_count": 8,
   "metadata": {},
   "outputs": [
    {
     "data": {
      "text/plain": [
       "True"
      ]
     },
     "execution_count": 8,
     "metadata": {},
     "output_type": "execute_result"
    }
   ],
   "source": [
    "balanced_brackets(\"([])(){}(())()()\")"
   ]
  }
 ],
 "metadata": {
  "kernelspec": {
   "display_name": "Python 3.8.6 64-bit",
   "language": "python",
   "name": "python3"
  },
  "language_info": {
   "codemirror_mode": {
    "name": "ipython",
    "version": 3
   },
   "file_extension": ".py",
   "mimetype": "text/x-python",
   "name": "python",
   "nbconvert_exporter": "python",
   "pygments_lexer": "ipython3",
   "version": "3.8.6"
  },
  "orig_nbformat": 4,
  "vscode": {
   "interpreter": {
    "hash": "9650cb4e16cdd4a8e8e2d128bf38d875813998db22a3c986335f89e0cb4d7bb2"
   }
  }
 },
 "nbformat": 4,
 "nbformat_minor": 2
}
