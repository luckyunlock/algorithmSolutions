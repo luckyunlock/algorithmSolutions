{
 "cells": [
  {
   "cell_type": "markdown",
   "metadata": {},
   "source": [
    "# Reversing a linked list\n",
    "\n",
    "## Problem\n",
    "\n",
    "Write a function that takes in the head of a Singly Linked List, reverses the\n",
    "list in place (i.e., doesn't create a brand new list), and returns its new head.\n",
    "\n",
    "Each LinkedList node has an integer value as well as\n",
    "a next node pointing to the next node in the list or to\n",
    "None if it's the tail of the list.\n",
    "\n",
    "You can assume that the input Linked List will always have at least one node; in other\n",
    "words, the head will never be None.\n",
    "\n",
    "## Input/Output\n",
    "### Sample Input\n",
    "head = 0 -&gt; 1 -&gt; 2 -&gt; 3 -&gt; 4 -&gt; 5 // the new head node with value 0\n",
    "\n",
    "### Sample Output\n",
    "5 -&gt; 4 -&gt; 3 -&gt; 2 -&gt; 1 -&gt; 0 // the new head node with value 5\n",
    "\n",
    "\n",
    "## Solution Ideas\n",
    "\n",
    "### Iterative\n",
    "\n",
    "This is the most efficient solution. The idea is to keep track of the previous node encountered to move the current node next. Just before doing so, it's important to save in a temporary variable the next element of the current node. After moving the next pointer of the current node, the current node becomes the current one, end the temporary saved node becomes the current.\n",
    "\n",
    "\n",
    "$\\text{Complexity - }Time\\ O(n)\\text{ | }Space\\ O(n)\\text{ when n is the number of nodes in the input list}$\n",
    "\n",
    "### Recursive\n",
    "\n",
    "Less efficient solution in space complexity due to stack frames that sit one on onother while recursion unfolds. It's a solution to mention because it briliantly demonstrate the magic of recursion. \n",
    "\n",
    "This solution just calls resursively on a smaller problem (a list with less items). The base case can consider a single node list, which is equal to its reverse. Then current.next will be the tail of the list resulting on the recursion call. Just append the current node to the node.next and set current.next to None. Return the head given by the recursion call.\n",
    "\n",
    "$\\text{Complexity - }Time\\ O(n)\\text{ | }Space\\ O(n)\\text{ when n is the number of nodes in the input list}$\n",
    "\n",
    "\n",
    "# Implementation\n",
    "\n",
    "### Iterative"
   ]
  },
  {
   "cell_type": "code",
   "execution_count": null,
   "metadata": {},
   "outputs": [],
   "source": [
    "\n",
    "# Space O(1) | Time O(n)\n",
    "def reverse_linked_list_iterative(head):\n",
    "    prev_node, current_node = None, head\n",
    "    while current_node:\n",
    "        next_node = current_node.next\n",
    "        current_node.next = prev_node\n",
    "        prev_node = current_node\n",
    "        current_node = next_node\n",
    "\n",
    "    return prev_node"
   ]
  },
  {
   "cell_type": "markdown",
   "metadata": {},
   "source": [
    "### Recursive"
   ]
  },
  {
   "cell_type": "code",
   "execution_count": null,
   "metadata": {},
   "outputs": [],
   "source": [
    "# Space O(n) | Time O(n)\n",
    "def reverse_linked_list(head):\n",
    "\tif not head.next:\n",
    "\t\treturn head\n",
    "\t\n",
    "\treversed_sub_list = reverse_linked_list(head.next)\n",
    "\thead.next.next = head\n",
    "\thead.next = None\n",
    "\t\n",
    "\treturn reversed_sub_list"
   ]
  }
 ],
 "metadata": {
  "kernelspec": {
   "display_name": "Python 3.8.6 64-bit",
   "language": "python",
   "name": "python3"
  },
  "language_info": {
   "name": "python",
   "version": "3.8.6"
  },
  "orig_nbformat": 4,
  "vscode": {
   "interpreter": {
    "hash": "9650cb4e16cdd4a8e8e2d128bf38d875813998db22a3c986335f89e0cb4d7bb2"
   }
  }
 },
 "nbformat": 4,
 "nbformat_minor": 2
}
