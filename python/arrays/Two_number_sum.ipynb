{
 "cells": [
  {
   "cell_type": "markdown",
   "id": "4122d73a-c5af-4cdc-a0da-9f76a86e03e4",
   "metadata": {},
   "source": [
    "# Two number sum\n",
    "\n",
    "## Problem\n",
    "\n",
    "Write a function that takes in a non-empty array of distinct integers and an\n",
    "integer representing a target sum. If any two numbers in the input array sum\n",
    "up to the target sum, the function should return them in an array, in any\n",
    "order. If no two numbers sum up to the target sum, the function should return\n",
    "an empty array.\n",
    "\n",
    "Note that the target sum has to be obtained by summing two different integers\n",
    "in the array; you can't add a single integer to itself in order to obtain the\n",
    "target sum.\n",
    "\n",
    "You can assume that there will be at most one pair of numbers summing up to\n",
    "the target sum.\n",
    "\n",
    "## Input/Output\n",
    "### Sample Input\n",
    "array = \\[3, 5, -4, 8, 11, 1, -1, 6\\]\n",
    "\n",
    "target_sum</span> = 10\n",
    "\n",
    "### Sample Output\n",
    "\\[-1, 11\\]"
   ]
  },
  {
   "cell_type": "markdown",
   "id": "d9755529",
   "metadata": {},
   "source": [
    "## Solution Ideas\n",
    "\n",
    "There are three main possible solutions, which differ by Space and Time complecity:\n",
    "### **Bruteforce**\n",
    "Inspect all the possible pairs of values in the array, considering the sum. Once you find a pair whose sum is equal to target_sum, return the output array. If no pairs matches the formula, return an empty array. \n",
    "\n",
    "\n",
    "$\\text{Complexity - }Time\\ O(n^2)\\text{ | }Space\\ O(1)$\n",
    "\n",
    "### **Sorting the input**\n",
    "After having sorted the input in ascending order, you can keep two indices to scan once the array. At the beginning, position the two indexes ($s$ and $e$) at the extremities of the array. Then, continue to move one of the two indexes until the curresponding values sums up to target_sum (or until s is equal to e). At each iteration, to decide which index to move, use the following formula: \n",
    "$$\n",
    "f(n) = \\begin{cases}\n",
    "  s=s+1 & \\text{if } array[s]+array[n]<target\\_sum \\\\\n",
    "  e=e-1 & \\text{if } array[s]+array[n]>target\\_sum \n",
    "\\end{cases}\n",
    "$$\n",
    "\n",
    "$\\text{Complexity - }Time\\ O(n* log(n))\\text{ | }Space\\ O(1)$\n",
    "### **Hash table**\n",
    "Iterate over the array and keep storing the values read into an hash table. For each values encountered, check whether its complementary (over target_sum) is inside the hash table. If so, return the couple discovered.\n",
    "\n",
    "$\\text{Complexity - }Time\\ O(n)\\text{ | }Space\\ O(n)$"
   ]
  },
  {
   "cell_type": "markdown",
   "id": "751e5d78",
   "metadata": {},
   "source": [
    "## Implementation by Sorting the input"
   ]
  },
  {
   "cell_type": "code",
   "execution_count": 5,
   "id": "c07153dc-7b70-40ad-8ee9-1fb90886aa3e",
   "metadata": {},
   "outputs": [],
   "source": [
    "# Complexity O(n*log(n)) \n",
    "def two_number_sum(array, targetSum):\n",
    "    array.sort()\n",
    "\n",
    "    s, e = 0, len(array)-1\n",
    "\n",
    "    while s < e:\n",
    "        arr_sum = array[s] + array[e]\n",
    "        if arr_sum == targetSum:\n",
    "            return [array[s], array[e]]\n",
    "\n",
    "        if arr_sum < targetSum:\n",
    "            s += 1\n",
    "        else:\n",
    "            e -= 1  \n",
    "\n",
    "    return []"
   ]
  },
  {
   "cell_type": "code",
   "execution_count": 6,
   "id": "0601a4a7",
   "metadata": {},
   "outputs": [
    {
     "data": {
      "text/plain": [
       "[-1, 11]"
      ]
     },
     "execution_count": 6,
     "metadata": {},
     "output_type": "execute_result"
    }
   ],
   "source": [
    "two_number_sum([3, 5, -4, 8, 11, 1, -1, 6], 10)"
   ]
  },
  {
   "cell_type": "markdown",
   "id": "741a1eea",
   "metadata": {},
   "source": [
    "## Implementation using a Hash Map"
   ]
  },
  {
   "cell_type": "code",
   "execution_count": 7,
   "id": "12fcd29d",
   "metadata": {},
   "outputs": [],
   "source": [
    "# Complexity - Time O(n) | Space O(1) \n",
    "def two_number_sum_hash(array, targetSum):\n",
    "    complementary = {}\n",
    "    for x in array:\n",
    "        if (targetSum - x) in complementary:\n",
    "            return [x, targetSum - x]\n",
    "        complementary[x] = True\n",
    "\n",
    "    return []"
   ]
  },
  {
   "cell_type": "code",
   "execution_count": 8,
   "id": "adde3fbf",
   "metadata": {},
   "outputs": [
    {
     "data": {
      "text/plain": [
       "[-1, 11]"
      ]
     },
     "execution_count": 8,
     "metadata": {},
     "output_type": "execute_result"
    }
   ],
   "source": [
    "two_number_sum_hash([3, 5, -4, 8, 11, 1, -1, 6], 10)"
   ]
  }
 ],
 "metadata": {
  "kernelspec": {
   "display_name": "Python 3.8.6 64-bit",
   "language": "python",
   "name": "python3"
  },
  "language_info": {
   "codemirror_mode": {
    "name": "ipython",
    "version": 3
   },
   "file_extension": ".py",
   "mimetype": "text/x-python",
   "name": "python",
   "nbconvert_exporter": "python",
   "pygments_lexer": "ipython3",
   "version": "3.8.6"
  },
  "vscode": {
   "interpreter": {
    "hash": "9650cb4e16cdd4a8e8e2d128bf38d875813998db22a3c986335f89e0cb4d7bb2"
   }
  }
 },
 "nbformat": 4,
 "nbformat_minor": 5
}
